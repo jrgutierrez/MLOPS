{
 "cells": [
  {
   "cell_type": "code",
   "execution_count": 1,
   "id": "c83232bf-f510-4e8a-8009-b83fc8465239",
   "metadata": {},
   "outputs": [],
   "source": [
    "import numpy as np\n",
    "import pandas as pd\n",
    "import joblib\n",
    "\n",
    "from IPython.display import clear_output\n",
    "\n",
    "!rm -rf data\n",
    "!mkdir data\n",
    "!kaggle datasets download -d 'mustafaali96/weight-height'\n",
    "!mv 'weight-height.zip' 'data/weight-height.zip'\n",
    "!unzip 'data/weight-height.zip' -d 'data'\n",
    "!rm 'data/weight-height.zip'\n",
    "\n",
    "clear_output()"
   ]
  },
  {
   "cell_type": "code",
   "execution_count": 2,
   "id": "759cbb63-350b-48cd-93bd-737f66b7a79a",
   "metadata": {},
   "outputs": [],
   "source": [
    "data = pd.read_csv('data/weight-height.csv')\n",
    "data['Gender'] = np.where(data['Gender'] == 'Male', 1, 0)\n",
    "data['Height'] *= 2.54\n",
    "data['Weight'] /= 2.205\n",
    "\n",
    "X = data.drop(columns = ['Weight'])\n",
    "y = data['Weight']"
   ]
  },
  {
   "cell_type": "code",
   "execution_count": 3,
   "id": "3d9b932d-23c6-4ff9-b85c-496ecdb10f30",
   "metadata": {},
   "outputs": [
    {
     "data": {
      "text/plain": [
       "['preprocessor.joblib']"
      ]
     },
     "execution_count": 3,
     "metadata": {},
     "output_type": "execute_result"
    }
   ],
   "source": [
    "from sklearn.model_selection import train_test_split\n",
    "from sklearn.preprocessing import MinMaxScaler\n",
    "\n",
    "X_train, X_test, y_train, y_test = train_test_split(X, y, test_size = 0.2, random_state = 42)\n",
    "\n",
    "scaler = MinMaxScaler()\n",
    "\n",
    "X_train = scaler.fit_transform(X_train.values)\n",
    "X_test = scaler.transform(X_test.values)\n",
    "\n",
    "joblib.dump(scaler, 'preprocessor.joblib')"
   ]
  },
  {
   "cell_type": "code",
   "execution_count": 4,
   "id": "39d886aa-9d9e-4783-b05b-71db252a401e",
   "metadata": {},
   "outputs": [
    {
     "name": "stderr",
     "output_type": "stream",
     "text": [
      "2022-12-08 20:24:36.115442: I tensorflow/core/platform/cpu_feature_guard.cc:193] This TensorFlow binary is optimized with oneAPI Deep Neural Network Library (oneDNN) to use the following CPU instructions in performance-critical operations:  SSE4.1 SSE4.2\n",
      "To enable them in other operations, rebuild TensorFlow with the appropriate compiler flags.\n"
     ]
    }
   ],
   "source": [
    "from keras.models import Sequential\n",
    "from keras.layers import Dense\n",
    "\n",
    "model = Sequential()\n",
    "model.add(Dense(32, input_shape = (2,), activation = 'relu'))\n",
    "model.add(Dense(16, activation = 'relu'))\n",
    "model.add(Dense(1))\n",
    "\n",
    "model.compile(optimizer='adam', loss = 'mse', metrics = ['mae'])"
   ]
  },
  {
   "cell_type": "code",
   "execution_count": 5,
   "id": "76ff87c6-470d-43f2-8bbd-a4ee6ea33537",
   "metadata": {},
   "outputs": [
    {
     "name": "stdout",
     "output_type": "stream",
     "text": [
      "Epoch 1/10\n"
     ]
    },
    {
     "name": "stderr",
     "output_type": "stream",
     "text": [
      "/Users/jose/opt/anaconda3/envs/borrarpickle/lib/python3.8/site-packages/keras/engine/data_adapter.py:1508: FutureWarning: The behavior of `series[i:j]` with an integer-dtype index is deprecated. In a future version, this will be treated as *label-based* indexing, consistent with e.g. `series[i]` lookups. To retain the old behavior, use `series.iloc[i:j]`. To get the future behavior, use `series.loc[i:j]`.\n",
      "  return t[start:end]\n"
     ]
    },
    {
     "name": "stdout",
     "output_type": "stream",
     "text": [
      "3200/3200 [==============================] - 2s 718us/step - loss: 575.1211 - mae: 12.8526 - val_loss: 24.4273 - val_mae: 3.9414\n",
      "Epoch 2/10\n",
      "3200/3200 [==============================] - 2s 567us/step - loss: 22.8348 - mae: 3.8245 - val_loss: 21.2192 - val_mae: 3.6741\n",
      "Epoch 3/10\n",
      "3200/3200 [==============================] - 2s 539us/step - loss: 21.2544 - mae: 3.6891 - val_loss: 20.6838 - val_mae: 3.6309\n",
      "Epoch 4/10\n",
      "3200/3200 [==============================] - 2s 577us/step - loss: 21.1217 - mae: 3.6857 - val_loss: 21.0505 - val_mae: 3.6489\n",
      "Epoch 5/10\n",
      "3200/3200 [==============================] - 2s 554us/step - loss: 21.0539 - mae: 3.6706 - val_loss: 20.6585 - val_mae: 3.6273\n",
      "Epoch 6/10\n",
      "3200/3200 [==============================] - 2s 695us/step - loss: 20.9501 - mae: 3.6640 - val_loss: 20.7137 - val_mae: 3.6270\n",
      "Epoch 7/10\n",
      "3200/3200 [==============================] - 2s 579us/step - loss: 21.0603 - mae: 3.6748 - val_loss: 21.4038 - val_mae: 3.6715\n",
      "Epoch 8/10\n",
      "3200/3200 [==============================] - 2s 538us/step - loss: 21.0392 - mae: 3.6663 - val_loss: 21.0237 - val_mae: 3.6748\n",
      "Epoch 9/10\n",
      "3200/3200 [==============================] - 2s 531us/step - loss: 21.0485 - mae: 3.6751 - val_loss: 20.6914 - val_mae: 3.6355\n",
      "Epoch 10/10\n",
      "3200/3200 [==============================] - 2s 568us/step - loss: 20.9385 - mae: 3.6530 - val_loss: 21.2336 - val_mae: 3.6633\n"
     ]
    },
    {
     "data": {
      "text/plain": [
       "<keras.callbacks.History at 0x7fbee6777e80>"
      ]
     },
     "execution_count": 5,
     "metadata": {},
     "output_type": "execute_result"
    }
   ],
   "source": [
    "model.fit(X_train, y_train, validation_split = 0.2, epochs = 10, batch_size = 2, verbose = 1)"
   ]
  },
  {
   "cell_type": "code",
   "execution_count": 6,
   "id": "035fea23-a2d0-4590-8ba9-6f53c1c06410",
   "metadata": {},
   "outputs": [
    {
     "name": "stdout",
     "output_type": "stream",
     "text": [
      "63/63 [==============================] - 0s 475us/step - loss: 21.4537 - mae: 3.6506\n"
     ]
    },
    {
     "data": {
      "text/plain": [
       "[21.45366668701172, 3.6506004333496094]"
      ]
     },
     "execution_count": 6,
     "metadata": {},
     "output_type": "execute_result"
    }
   ],
   "source": [
    "model.evaluate(X_test, y_test)"
   ]
  },
  {
   "cell_type": "code",
   "execution_count": 7,
   "id": "969acfeb-7805-4ac4-ba68-80c591a9e287",
   "metadata": {},
   "outputs": [
    {
     "name": "stdout",
     "output_type": "stream",
     "text": [
      "63/63 [==============================] - 0s 404us/step\n"
     ]
    }
   ],
   "source": [
    "y_pred = model.predict(X_test).reshape(-1)"
   ]
  },
  {
   "cell_type": "code",
   "execution_count": 8,
   "id": "b7a5a4ee-a865-4edf-9efb-9d9c6384301e",
   "metadata": {},
   "outputs": [
    {
     "data": {
      "text/plain": [
       "0.9004066933778745"
      ]
     },
     "execution_count": 8,
     "metadata": {},
     "output_type": "execute_result"
    }
   ],
   "source": [
    "def r_2(y_true, y_pred):\n",
    "    return 1 - sum((y_true - y_pred)**2) / sum((y_true - np.mean(y_true))**2)\n",
    "\n",
    "r_2(y_test, y_pred)"
   ]
  },
  {
   "cell_type": "code",
   "execution_count": 9,
   "id": "9f05e68d-e37d-43fa-b7c7-9d4361bcc30b",
   "metadata": {},
   "outputs": [],
   "source": [
    "# with open('model.pkl', 'wb') as f:\n",
    "#     pickle.dump(model, f)\n",
    "    \n",
    "# joblib.dump(model, 'model.joblib')\n",
    "model.save('model.h5')"
   ]
  }
 ],
 "metadata": {
  "kernelspec": {
   "display_name": "Python 3 (ipykernel)",
   "language": "python",
   "name": "python3"
  },
  "language_info": {
   "codemirror_mode": {
    "name": "ipython",
    "version": 3
   },
   "file_extension": ".py",
   "mimetype": "text/x-python",
   "name": "python",
   "nbconvert_exporter": "python",
   "pygments_lexer": "ipython3",
   "version": "3.8.15"
  }
 },
 "nbformat": 4,
 "nbformat_minor": 5
}
